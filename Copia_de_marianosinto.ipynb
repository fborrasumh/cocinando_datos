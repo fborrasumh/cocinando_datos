{
  "nbformat": 4,
  "nbformat_minor": 0,
  "metadata": {
    "colab": {
      "name": "Copia de  marianosinto.ipynb",
      "provenance": [],
      "collapsed_sections": [],
      "include_colab_link": true
    },
    "kernelspec": {
      "name": "python3",
      "display_name": "Python 3"
    }
  },
  "cells": [
    {
      "cell_type": "markdown",
      "metadata": {
        "id": "view-in-github",
        "colab_type": "text"
      },
      "source": [
        "<a href=\"https://colab.research.google.com/github/fborrasumh/cocinando_datos/blob/master/Copia_de_marianosinto.ipynb\" target=\"_parent\"><img src=\"https://colab.research.google.com/assets/colab-badge.svg\" alt=\"Open In Colab\"/></a>"
      ]
    },
    {
      "cell_type": "code",
      "metadata": {
        "id": "Z4VUxrstXzIp",
        "colab_type": "code",
        "outputId": "3282217f-a002-4cb5-c7a2-ee57be37698e",
        "colab": {
          "base_uri": "https://localhost:8080/",
          "height": 124
        }
      },
      "source": [
        "import pandas as pd\n",
        "\n",
        "# Load the Drive helper and mount\n",
        "from google.colab import drive\n",
        "\n",
        "# This will prompt for authorization.\n",
        "drive.mount('/googledrive')\n",
        "\n",
        "\n",
        "\n"
      ],
      "execution_count": 0,
      "outputs": [
        {
          "output_type": "stream",
          "text": [
            "Go to this URL in a browser: https://accounts.google.com/o/oauth2/auth?client_id=947318989803-6bn6qk8qdgf4n4g3pfee6491hc0brc4i.apps.googleusercontent.com&redirect_uri=urn%3aietf%3awg%3aoauth%3a2.0%3aoob&response_type=code&scope=email%20https%3a%2f%2fwww.googleapis.com%2fauth%2fdocs.test%20https%3a%2f%2fwww.googleapis.com%2fauth%2fdrive%20https%3a%2f%2fwww.googleapis.com%2fauth%2fdrive.photos.readonly%20https%3a%2f%2fwww.googleapis.com%2fauth%2fpeopleapi.readonly\n",
            "\n",
            "Enter your authorization code:\n",
            "··········\n",
            "Mounted at /googledrive\n"
          ],
          "name": "stdout"
        }
      ]
    },
    {
      "cell_type": "code",
      "metadata": {
        "id": "aQ1UeDewscz5",
        "colab_type": "code",
        "outputId": "3a659228-5869-4304-a6f4-a54107ba7a0d",
        "colab": {
          "base_uri": "https://localhost:8080/",
          "height": 314
        }
      },
      "source": [
        "\n",
        "# cambiamos directorio de trabajo\n",
        "%cd /googledrive/My Drive/Colab Notebooks/papers/mariano/\n",
        "!ls -l"
      ],
      "execution_count": 0,
      "outputs": [
        {
          "output_type": "stream",
          "text": [
            "/googledrive/My Drive/Colab Notebooks/papers/mariano\n",
            "total 4486\n",
            "-rw------- 1 root root  128079 Dec  3 09:14 'Copia de mariano.ipynb'\n",
            "-rw------- 1 root root 1538504 Oct 28 18:30 'Fig 1.tif'\n",
            "-rw------- 1 root root 1642016 Oct 28 18:30 'Fig 2.tif'\n",
            "-rw------- 1 root root  254010 Dec  3 09:18 'glms mariano.docx'\n",
            "-rw------- 1 root root   35264 Oct 28 14:42  mariano.csv\n",
            "-rw------- 1 root root   99979 Oct 28 19:39  mariano.docx\n",
            "-rw------- 1 root root   95911 Dec  3 08:42  mariano.ipynb\n",
            "-rw------- 1 root root   18345 Oct 28 09:17  mariano.sav\n",
            "-rw------- 1 root root  127564 Dec  9 19:18 ' marianosinto.ipynb'\n",
            "-rw------- 1 root root  164352 Dec  3 09:20  marianosql2sinto.xls\n",
            "-rw------- 1 root root  179200 Dec  6 17:02  marianosql2.xls\n",
            "-rw------- 1 root root  179200 Oct 28 18:57  marianosql.xls\n",
            "-rw------- 1 root root   25652 Dec  3 08:28  mariano.xlsx\n",
            "-rw------- 1 root root   85425 Oct 28 09:46 'paper stored SF crystals_def JR (no tables).docx'\n",
            "-rw------- 1 root root   16805 Oct 28 09:46 'Table 2.docx'\n"
          ],
          "name": "stdout"
        }
      ]
    },
    {
      "cell_type": "code",
      "metadata": {
        "id": "xBEvjAa8_I_f",
        "colab_type": "code",
        "colab": {}
      },
      "source": [
        "import statsmodels.formula.api as smf\n",
        "from patsy import dmatrices\n",
        "\n"
      ],
      "execution_count": 0,
      "outputs": []
    },
    {
      "cell_type": "markdown",
      "metadata": {
        "id": "AmM55ehkNa0J",
        "colab_type": "text"
      },
      "source": [
        "# **INFORME FINAL**"
      ]
    },
    {
      "cell_type": "code",
      "metadata": {
        "id": "ynV6TTmbSMit",
        "colab_type": "code",
        "outputId": "075b35da-0727-427e-e81e-f4e11f9eac1e",
        "colab": {
          "base_uri": "https://localhost:8080/",
          "height": 34
        }
      },
      "source": [
        "df2 = pd.read_excel(\"marianosql2sinto.xls\")\n",
        "df2.head(40)\n",
        "df2[\"tipo\"].unique()"
      ],
      "execution_count": 0,
      "outputs": [
        {
          "output_type": "execute_result",
          "data": {
            "text/plain": [
              "array(['PFC', 'UMS'], dtype=object)"
            ]
          },
          "metadata": {
            "tags": []
          },
          "execution_count": 7
        }
      ]
    },
    {
      "cell_type": "code",
      "metadata": {
        "id": "zQVqxcjYKSd2",
        "colab_type": "code",
        "outputId": "ea817f2e-b479-4050-a34f-a2ef1b5b1c2e",
        "colab": {
          "base_uri": "https://localhost:8080/",
          "height": 353
        }
      },
      "source": [
        "formula2 = 'presence ~ temperatura+preservante+muestra+tipo'\n",
        "        \n",
        "mod2 = smf.glm(formula=formula2, data=df2).fit()\n",
        "mod2.summary()\n",
        "\n"
      ],
      "execution_count": 0,
      "outputs": [
        {
          "output_type": "execute_result",
          "data": {
            "text/html": [
              "<table class=\"simpletable\">\n",
              "<caption>Generalized Linear Model Regression Results</caption>\n",
              "<tr>\n",
              "  <th>Dep. Variable:</th>       <td>presence</td>     <th>  No. Observations:  </th>  <td>   360</td> \n",
              "</tr>\n",
              "<tr>\n",
              "  <th>Model:</th>                  <td>GLM</td>       <th>  Df Residuals:      </th>  <td>   355</td> \n",
              "</tr>\n",
              "<tr>\n",
              "  <th>Model Family:</th>        <td>Gaussian</td>     <th>  Df Model:          </th>  <td>     4</td> \n",
              "</tr>\n",
              "<tr>\n",
              "  <th>Link Function:</th>       <td>identity</td>     <th>  Scale:             </th> <td>0.093565</td>\n",
              "</tr>\n",
              "<tr>\n",
              "  <th>Method:</th>                <td>IRLS</td>       <th>  Log-Likelihood:    </th> <td> -81.862</td>\n",
              "</tr>\n",
              "<tr>\n",
              "  <th>Date:</th>            <td>Mon, 09 Dec 2019</td> <th>  Deviance:          </th> <td>  33.216</td>\n",
              "</tr>\n",
              "<tr>\n",
              "  <th>Time:</th>                <td>19:20:02</td>     <th>  Pearson chi2:      </th>  <td>  33.2</td> \n",
              "</tr>\n",
              "<tr>\n",
              "  <th>No. Iterations:</th>          <td>3</td>        <th>                     </th>     <td> </td>   \n",
              "</tr>\n",
              "<tr>\n",
              "  <th>Covariance Type:</th>     <td>nonrobust</td>    <th>                     </th>     <td> </td>   \n",
              "</tr>\n",
              "</table>\n",
              "<table class=\"simpletable\">\n",
              "<tr>\n",
              "               <td></td>                 <th>coef</th>     <th>std err</th>      <th>z</th>      <th>P>|z|</th>  <th>[0.025</th>    <th>0.975]</th>  \n",
              "</tr>\n",
              "<tr>\n",
              "  <th>Intercept</th>                  <td>    0.7946</td> <td>    0.045</td> <td>   17.675</td> <td> 0.000</td> <td>    0.706</td> <td>    0.883</td>\n",
              "</tr>\n",
              "<tr>\n",
              "  <th>temperatura[T.Refrigerado]</th> <td>    0.0522</td> <td>    0.032</td> <td>    1.617</td> <td> 0.106</td> <td>   -0.011</td> <td>    0.115</td>\n",
              "</tr>\n",
              "<tr>\n",
              "  <th>preservante[T.Heparina]</th>    <td>    0.0316</td> <td>    0.032</td> <td>    0.981</td> <td> 0.326</td> <td>   -0.032</td> <td>    0.095</td>\n",
              "</tr>\n",
              "<tr>\n",
              "  <th>tipo[T.UMS]</th>                <td>   -0.0804</td> <td>    0.033</td> <td>   -2.430</td> <td> 0.015</td> <td>   -0.145</td> <td>   -0.016</td>\n",
              "</tr>\n",
              "<tr>\n",
              "  <th>muestra</th>                    <td>    0.0017</td> <td>    0.000</td> <td>    3.613</td> <td> 0.000</td> <td>    0.001</td> <td>    0.003</td>\n",
              "</tr>\n",
              "</table>"
            ],
            "text/plain": [
              "<class 'statsmodels.iolib.summary.Summary'>\n",
              "\"\"\"\n",
              "                 Generalized Linear Model Regression Results                  \n",
              "==============================================================================\n",
              "Dep. Variable:               presence   No. Observations:                  360\n",
              "Model:                            GLM   Df Residuals:                      355\n",
              "Model Family:                Gaussian   Df Model:                            4\n",
              "Link Function:               identity   Scale:                        0.093565\n",
              "Method:                          IRLS   Log-Likelihood:                -81.862\n",
              "Date:                Mon, 09 Dec 2019   Deviance:                       33.216\n",
              "Time:                        19:20:02   Pearson chi2:                     33.2\n",
              "No. Iterations:                     3                                         \n",
              "Covariance Type:            nonrobust                                         \n",
              "==============================================================================================\n",
              "                                 coef    std err          z      P>|z|      [0.025      0.975]\n",
              "----------------------------------------------------------------------------------------------\n",
              "Intercept                      0.7946      0.045     17.675      0.000       0.706       0.883\n",
              "temperatura[T.Refrigerado]     0.0522      0.032      1.617      0.106      -0.011       0.115\n",
              "preservante[T.Heparina]        0.0316      0.032      0.981      0.326      -0.032       0.095\n",
              "tipo[T.UMS]                   -0.0804      0.033     -2.430      0.015      -0.145      -0.016\n",
              "muestra                        0.0017      0.000      3.613      0.000       0.001       0.003\n",
              "==============================================================================================\n",
              "\"\"\""
            ]
          },
          "metadata": {
            "tags": []
          },
          "execution_count": 8
        }
      ]
    },
    {
      "cell_type": "code",
      "metadata": {
        "id": "slw3M-hdVzoH",
        "colab_type": "code",
        "outputId": "79910766-f68f-4f9c-d279-ae52ff519c92",
        "colab": {
          "base_uri": "https://localhost:8080/",
          "height": 374
        }
      },
      "source": [
        "formula2 = 'presence ~ temperatura+preservante+muestra+tipo+muestra*tipo'\n",
        "        \n",
        "mod2 = smf.glm(formula=formula2, data=df2).fit()\n",
        "mod2.summary()"
      ],
      "execution_count": 0,
      "outputs": [
        {
          "output_type": "execute_result",
          "data": {
            "text/html": [
              "<table class=\"simpletable\">\n",
              "<caption>Generalized Linear Model Regression Results</caption>\n",
              "<tr>\n",
              "  <th>Dep. Variable:</th>       <td>presence</td>     <th>  No. Observations:  </th>  <td>   360</td> \n",
              "</tr>\n",
              "<tr>\n",
              "  <th>Model:</th>                  <td>GLM</td>       <th>  Df Residuals:      </th>  <td>   354</td> \n",
              "</tr>\n",
              "<tr>\n",
              "  <th>Model Family:</th>        <td>Gaussian</td>     <th>  Df Model:          </th>  <td>     5</td> \n",
              "</tr>\n",
              "<tr>\n",
              "  <th>Link Function:</th>       <td>identity</td>     <th>  Scale:             </th> <td>0.092932</td>\n",
              "</tr>\n",
              "<tr>\n",
              "  <th>Method:</th>                <td>IRLS</td>       <th>  Log-Likelihood:    </th> <td> -80.132</td>\n",
              "</tr>\n",
              "<tr>\n",
              "  <th>Date:</th>            <td>Mon, 09 Dec 2019</td> <th>  Deviance:          </th> <td>  32.898</td>\n",
              "</tr>\n",
              "<tr>\n",
              "  <th>Time:</th>                <td>19:20:06</td>     <th>  Pearson chi2:      </th>  <td>  32.9</td> \n",
              "</tr>\n",
              "<tr>\n",
              "  <th>No. Iterations:</th>          <td>3</td>        <th>                     </th>     <td> </td>   \n",
              "</tr>\n",
              "<tr>\n",
              "  <th>Covariance Type:</th>     <td>nonrobust</td>    <th>                     </th>     <td> </td>   \n",
              "</tr>\n",
              "</table>\n",
              "<table class=\"simpletable\">\n",
              "<tr>\n",
              "               <td></td>                 <th>coef</th>     <th>std err</th>      <th>z</th>      <th>P>|z|</th>  <th>[0.025</th>    <th>0.975]</th>  \n",
              "</tr>\n",
              "<tr>\n",
              "  <th>Intercept</th>                  <td>    0.7270</td> <td>    0.058</td> <td>   12.575</td> <td> 0.000</td> <td>    0.614</td> <td>    0.840</td>\n",
              "</tr>\n",
              "<tr>\n",
              "  <th>temperatura[T.Refrigerado]</th> <td>    0.0522</td> <td>    0.032</td> <td>    1.623</td> <td> 0.105</td> <td>   -0.011</td> <td>    0.115</td>\n",
              "</tr>\n",
              "<tr>\n",
              "  <th>preservante[T.Heparina]</th>    <td>    0.0316</td> <td>    0.032</td> <td>    0.985</td> <td> 0.325</td> <td>   -0.031</td> <td>    0.095</td>\n",
              "</tr>\n",
              "<tr>\n",
              "  <th>tipo[T.UMS]</th>                <td>    0.0269</td> <td>    0.067</td> <td>    0.404</td> <td> 0.686</td> <td>   -0.104</td> <td>    0.158</td>\n",
              "</tr>\n",
              "<tr>\n",
              "  <th>muestra</th>                    <td>    0.0027</td> <td>    0.001</td> <td>    3.724</td> <td> 0.000</td> <td>    0.001</td> <td>    0.004</td>\n",
              "</tr>\n",
              "<tr>\n",
              "  <th>muestra:tipo[T.UMS]</th>        <td>   -0.0018</td> <td>    0.001</td> <td>   -1.849</td> <td> 0.064</td> <td>   -0.004</td> <td>    0.000</td>\n",
              "</tr>\n",
              "</table>"
            ],
            "text/plain": [
              "<class 'statsmodels.iolib.summary.Summary'>\n",
              "\"\"\"\n",
              "                 Generalized Linear Model Regression Results                  \n",
              "==============================================================================\n",
              "Dep. Variable:               presence   No. Observations:                  360\n",
              "Model:                            GLM   Df Residuals:                      354\n",
              "Model Family:                Gaussian   Df Model:                            5\n",
              "Link Function:               identity   Scale:                        0.092932\n",
              "Method:                          IRLS   Log-Likelihood:                -80.132\n",
              "Date:                Mon, 09 Dec 2019   Deviance:                       32.898\n",
              "Time:                        19:20:06   Pearson chi2:                     32.9\n",
              "No. Iterations:                     3                                         \n",
              "Covariance Type:            nonrobust                                         \n",
              "==============================================================================================\n",
              "                                 coef    std err          z      P>|z|      [0.025      0.975]\n",
              "----------------------------------------------------------------------------------------------\n",
              "Intercept                      0.7270      0.058     12.575      0.000       0.614       0.840\n",
              "temperatura[T.Refrigerado]     0.0522      0.032      1.623      0.105      -0.011       0.115\n",
              "preservante[T.Heparina]        0.0316      0.032      0.985      0.325      -0.031       0.095\n",
              "tipo[T.UMS]                    0.0269      0.067      0.404      0.686      -0.104       0.158\n",
              "muestra                        0.0027      0.001      3.724      0.000       0.001       0.004\n",
              "muestra:tipo[T.UMS]           -0.0018      0.001     -1.849      0.064      -0.004       0.000\n",
              "==============================================================================================\n",
              "\"\"\""
            ]
          },
          "metadata": {
            "tags": []
          },
          "execution_count": 9
        }
      ]
    },
    {
      "cell_type": "code",
      "metadata": {
        "id": "_OxV4yLO_IXO",
        "colab_type": "code",
        "outputId": "40ad79f1-deba-4234-c4fa-2d83cdc0c689",
        "colab": {
          "base_uri": "https://localhost:8080/",
          "height": 374
        }
      },
      "source": [
        "formula2 = 'presence ~ temperatura+preservante+muestra+tipo+temperatura*muestra '\n",
        "        \n",
        "mod2 = smf.glm(formula=formula2, data=df2).fit()\n",
        "mod2.summary()"
      ],
      "execution_count": 0,
      "outputs": [
        {
          "output_type": "execute_result",
          "data": {
            "text/html": [
              "<table class=\"simpletable\">\n",
              "<caption>Generalized Linear Model Regression Results</caption>\n",
              "<tr>\n",
              "  <th>Dep. Variable:</th>       <td>presence</td>     <th>  No. Observations:  </th>  <td>   360</td> \n",
              "</tr>\n",
              "<tr>\n",
              "  <th>Model:</th>                  <td>GLM</td>       <th>  Df Residuals:      </th>  <td>   354</td> \n",
              "</tr>\n",
              "<tr>\n",
              "  <th>Model Family:</th>        <td>Gaussian</td>     <th>  Df Model:          </th>  <td>     5</td> \n",
              "</tr>\n",
              "<tr>\n",
              "  <th>Link Function:</th>       <td>identity</td>     <th>  Scale:             </th> <td>0.093446</td>\n",
              "</tr>\n",
              "<tr>\n",
              "  <th>Method:</th>                <td>IRLS</td>       <th>  Log-Likelihood:    </th> <td> -81.125</td>\n",
              "</tr>\n",
              "<tr>\n",
              "  <th>Date:</th>            <td>Mon, 09 Dec 2019</td> <th>  Deviance:          </th> <td>  33.080</td>\n",
              "</tr>\n",
              "<tr>\n",
              "  <th>Time:</th>                <td>19:20:09</td>     <th>  Pearson chi2:      </th>  <td>  33.1</td> \n",
              "</tr>\n",
              "<tr>\n",
              "  <th>No. Iterations:</th>          <td>3</td>        <th>                     </th>     <td> </td>   \n",
              "</tr>\n",
              "<tr>\n",
              "  <th>Covariance Type:</th>     <td>nonrobust</td>    <th>                     </th>     <td> </td>   \n",
              "</tr>\n",
              "</table>\n",
              "<table class=\"simpletable\">\n",
              "<tr>\n",
              "                   <td></td>                     <th>coef</th>     <th>std err</th>      <th>z</th>      <th>P>|z|</th>  <th>[0.025</th>    <th>0.975]</th>  \n",
              "</tr>\n",
              "<tr>\n",
              "  <th>Intercept</th>                          <td>    0.7618</td> <td>    0.053</td> <td>   14.502</td> <td> 0.000</td> <td>    0.659</td> <td>    0.865</td>\n",
              "</tr>\n",
              "<tr>\n",
              "  <th>temperatura[T.Refrigerado]</th>         <td>    0.1189</td> <td>    0.064</td> <td>    1.856</td> <td> 0.063</td> <td>   -0.007</td> <td>    0.244</td>\n",
              "</tr>\n",
              "<tr>\n",
              "  <th>preservante[T.Heparina]</th>            <td>    0.0316</td> <td>    0.032</td> <td>    0.982</td> <td> 0.326</td> <td>   -0.032</td> <td>    0.095</td>\n",
              "</tr>\n",
              "<tr>\n",
              "  <th>tipo[T.UMS]</th>                        <td>   -0.0804</td> <td>    0.033</td> <td>   -2.431</td> <td> 0.015</td> <td>   -0.145</td> <td>   -0.016</td>\n",
              "</tr>\n",
              "<tr>\n",
              "  <th>muestra</th>                            <td>    0.0023</td> <td>    0.001</td> <td>    3.413</td> <td> 0.001</td> <td>    0.001</td> <td>    0.004</td>\n",
              "</tr>\n",
              "<tr>\n",
              "  <th>temperatura[T.Refrigerado]:muestra</th> <td>   -0.0011</td> <td>    0.001</td> <td>   -1.205</td> <td> 0.228</td> <td>   -0.003</td> <td>    0.001</td>\n",
              "</tr>\n",
              "</table>"
            ],
            "text/plain": [
              "<class 'statsmodels.iolib.summary.Summary'>\n",
              "\"\"\"\n",
              "                 Generalized Linear Model Regression Results                  \n",
              "==============================================================================\n",
              "Dep. Variable:               presence   No. Observations:                  360\n",
              "Model:                            GLM   Df Residuals:                      354\n",
              "Model Family:                Gaussian   Df Model:                            5\n",
              "Link Function:               identity   Scale:                        0.093446\n",
              "Method:                          IRLS   Log-Likelihood:                -81.125\n",
              "Date:                Mon, 09 Dec 2019   Deviance:                       33.080\n",
              "Time:                        19:20:09   Pearson chi2:                     33.1\n",
              "No. Iterations:                     3                                         \n",
              "Covariance Type:            nonrobust                                         \n",
              "======================================================================================================\n",
              "                                         coef    std err          z      P>|z|      [0.025      0.975]\n",
              "------------------------------------------------------------------------------------------------------\n",
              "Intercept                              0.7618      0.053     14.502      0.000       0.659       0.865\n",
              "temperatura[T.Refrigerado]             0.1189      0.064      1.856      0.063      -0.007       0.244\n",
              "preservante[T.Heparina]                0.0316      0.032      0.982      0.326      -0.032       0.095\n",
              "tipo[T.UMS]                           -0.0804      0.033     -2.431      0.015      -0.145      -0.016\n",
              "muestra                                0.0023      0.001      3.413      0.001       0.001       0.004\n",
              "temperatura[T.Refrigerado]:muestra    -0.0011      0.001     -1.205      0.228      -0.003       0.001\n",
              "======================================================================================================\n",
              "\"\"\""
            ]
          },
          "metadata": {
            "tags": []
          },
          "execution_count": 10
        }
      ]
    },
    {
      "cell_type": "code",
      "metadata": {
        "id": "4zcy5Fo4_UHC",
        "colab_type": "code",
        "outputId": "59064fbd-8b0b-46c6-b987-8d8e4d1f2dd1",
        "colab": {
          "base_uri": "https://localhost:8080/",
          "height": 374
        }
      },
      "source": [
        "formula2 = 'presence ~ temperatura+preservante+muestra+tipo+preservante*muestra '\n",
        "        \n",
        "mod2 = smf.glm(formula=formula2, data=df2).fit()\n",
        "mod2.summary()"
      ],
      "execution_count": 0,
      "outputs": [
        {
          "output_type": "execute_result",
          "data": {
            "text/html": [
              "<table class=\"simpletable\">\n",
              "<caption>Generalized Linear Model Regression Results</caption>\n",
              "<tr>\n",
              "  <th>Dep. Variable:</th>       <td>presence</td>     <th>  No. Observations:  </th>  <td>   360</td> \n",
              "</tr>\n",
              "<tr>\n",
              "  <th>Model:</th>                  <td>GLM</td>       <th>  Df Residuals:      </th>  <td>   354</td> \n",
              "</tr>\n",
              "<tr>\n",
              "  <th>Model Family:</th>        <td>Gaussian</td>     <th>  Df Model:          </th>  <td>     5</td> \n",
              "</tr>\n",
              "<tr>\n",
              "  <th>Link Function:</th>       <td>identity</td>     <th>  Scale:             </th> <td>0.093557</td>\n",
              "</tr>\n",
              "<tr>\n",
              "  <th>Method:</th>                <td>IRLS</td>       <th>  Log-Likelihood:    </th> <td> -81.339</td>\n",
              "</tr>\n",
              "<tr>\n",
              "  <th>Date:</th>            <td>Mon, 09 Dec 2019</td> <th>  Deviance:          </th> <td>  33.119</td>\n",
              "</tr>\n",
              "<tr>\n",
              "  <th>Time:</th>                <td>19:20:14</td>     <th>  Pearson chi2:      </th>  <td>  33.1</td> \n",
              "</tr>\n",
              "<tr>\n",
              "  <th>No. Iterations:</th>          <td>3</td>        <th>                     </th>     <td> </td>   \n",
              "</tr>\n",
              "<tr>\n",
              "  <th>Covariance Type:</th>     <td>nonrobust</td>    <th>                     </th>     <td> </td>   \n",
              "</tr>\n",
              "</table>\n",
              "<table class=\"simpletable\">\n",
              "<tr>\n",
              "                 <td></td>                    <th>coef</th>     <th>std err</th>      <th>z</th>      <th>P>|z|</th>  <th>[0.025</th>    <th>0.975]</th>  \n",
              "</tr>\n",
              "<tr>\n",
              "  <th>Intercept</th>                       <td>    0.8224</td> <td>    0.053</td> <td>   15.613</td> <td> 0.000</td> <td>    0.719</td> <td>    0.926</td>\n",
              "</tr>\n",
              "<tr>\n",
              "  <th>temperatura[T.Refrigerado]</th>      <td>    0.0522</td> <td>    0.032</td> <td>    1.618</td> <td> 0.106</td> <td>   -0.011</td> <td>    0.115</td>\n",
              "</tr>\n",
              "<tr>\n",
              "  <th>preservante[T.Heparina]</th>         <td>   -0.0246</td> <td>    0.064</td> <td>   -0.383</td> <td> 0.701</td> <td>   -0.150</td> <td>    0.101</td>\n",
              "</tr>\n",
              "<tr>\n",
              "  <th>tipo[T.UMS]</th>                     <td>   -0.0804</td> <td>    0.033</td> <td>   -2.430</td> <td> 0.015</td> <td>   -0.145</td> <td>   -0.016</td>\n",
              "</tr>\n",
              "<tr>\n",
              "  <th>muestra</th>                         <td>    0.0012</td> <td>    0.001</td> <td>    1.847</td> <td> 0.065</td> <td>-7.48e-05</td> <td>    0.003</td>\n",
              "</tr>\n",
              "<tr>\n",
              "  <th>preservante[T.Heparina]:muestra</th> <td>    0.0009</td> <td>    0.001</td> <td>    1.015</td> <td> 0.310</td> <td>   -0.001</td> <td>    0.003</td>\n",
              "</tr>\n",
              "</table>"
            ],
            "text/plain": [
              "<class 'statsmodels.iolib.summary.Summary'>\n",
              "\"\"\"\n",
              "                 Generalized Linear Model Regression Results                  \n",
              "==============================================================================\n",
              "Dep. Variable:               presence   No. Observations:                  360\n",
              "Model:                            GLM   Df Residuals:                      354\n",
              "Model Family:                Gaussian   Df Model:                            5\n",
              "Link Function:               identity   Scale:                        0.093557\n",
              "Method:                          IRLS   Log-Likelihood:                -81.339\n",
              "Date:                Mon, 09 Dec 2019   Deviance:                       33.119\n",
              "Time:                        19:20:14   Pearson chi2:                     33.1\n",
              "No. Iterations:                     3                                         \n",
              "Covariance Type:            nonrobust                                         \n",
              "===================================================================================================\n",
              "                                      coef    std err          z      P>|z|      [0.025      0.975]\n",
              "---------------------------------------------------------------------------------------------------\n",
              "Intercept                           0.8224      0.053     15.613      0.000       0.719       0.926\n",
              "temperatura[T.Refrigerado]          0.0522      0.032      1.618      0.106      -0.011       0.115\n",
              "preservante[T.Heparina]            -0.0246      0.064     -0.383      0.701      -0.150       0.101\n",
              "tipo[T.UMS]                        -0.0804      0.033     -2.430      0.015      -0.145      -0.016\n",
              "muestra                             0.0012      0.001      1.847      0.065   -7.48e-05       0.003\n",
              "preservante[T.Heparina]:muestra     0.0009      0.001      1.015      0.310      -0.001       0.003\n",
              "===================================================================================================\n",
              "\"\"\""
            ]
          },
          "metadata": {
            "tags": []
          },
          "execution_count": 11
        }
      ]
    },
    {
      "cell_type": "markdown",
      "metadata": {
        "id": "IGQ1DzPc-9xS",
        "colab_type": "text"
      },
      "source": [
        "# **estratificación por tipo cristal UMS**"
      ]
    },
    {
      "cell_type": "code",
      "metadata": {
        "id": "OcbA_AI-CVDs",
        "colab_type": "code",
        "colab": {}
      },
      "source": [
        "df2 = pd.read_excel(\"marianosql2sinto.xls\")\n",
        "dfums= df2[df2[\"tipo\"] ==\"UMS\"]"
      ],
      "execution_count": 0,
      "outputs": []
    },
    {
      "cell_type": "code",
      "metadata": {
        "id": "nSifNyfiTtqu",
        "colab_type": "code",
        "outputId": "05d15b5a-b1a8-4321-a06e-d2b9164873f7",
        "colab": {
          "base_uri": "https://localhost:8080/",
          "height": 349
        }
      },
      "source": [
        "#estratificación por tipo cristal UMS\n",
        "\n",
        "\n",
        "\n",
        "formula2 = 'presence ~ temperatura+preservante+muestra'\n",
        "        \n",
        "mod2 = smf.glm(formula=formula2, data=dfums).fit()\n",
        "print(mod2.summary())\n"
      ],
      "execution_count": 0,
      "outputs": [
        {
          "output_type": "stream",
          "text": [
            "                 Generalized Linear Model Regression Results                  \n",
            "==============================================================================\n",
            "Dep. Variable:               presence   No. Observations:                  216\n",
            "Model:                            GLM   Df Residuals:                      212\n",
            "Model Family:                Gaussian   Df Model:                            3\n",
            "Link Function:               identity   Scale:                         0.12523\n",
            "Method:                          IRLS   Log-Likelihood:                -80.095\n",
            "Date:                Mon, 09 Dec 2019   Deviance:                       26.550\n",
            "Time:                        19:20:20   Pearson chi2:                     26.5\n",
            "No. Iterations:                     3                                         \n",
            "Covariance Type:            nonrobust                                         \n",
            "==============================================================================================\n",
            "                                 coef    std err          z      P>|z|      [0.025      0.975]\n",
            "----------------------------------------------------------------------------------------------\n",
            "Intercept                      0.7330      0.057     12.916      0.000       0.622       0.844\n",
            "temperatura[T.Refrigerado]     0.0536      0.048      1.112      0.266      -0.041       0.148\n",
            "preservante[T.Heparina]        0.0731      0.048      1.518      0.129      -0.021       0.167\n",
            "muestra                        0.0010      0.001      1.403      0.161      -0.000       0.002\n",
            "==============================================================================================\n"
          ],
          "name": "stdout"
        }
      ]
    },
    {
      "cell_type": "code",
      "metadata": {
        "id": "q4VfQ5Xm-pX3",
        "colab_type": "code",
        "outputId": "e2fe3580-27e7-48ef-f3b1-5ae2de48a290",
        "colab": {
          "base_uri": "https://localhost:8080/",
          "height": 353
        }
      },
      "source": [
        "formula2 = 'presence ~ temperatura+preservante+muestra+temperatura*muestra '\n",
        "        \n",
        "mod2 = smf.glm(formula=formula2, data=dfums).fit()\n",
        "mod2.summary()"
      ],
      "execution_count": 0,
      "outputs": [
        {
          "output_type": "execute_result",
          "data": {
            "text/html": [
              "<table class=\"simpletable\">\n",
              "<caption>Generalized Linear Model Regression Results</caption>\n",
              "<tr>\n",
              "  <th>Dep. Variable:</th>       <td>presence</td>     <th>  No. Observations:  </th>  <td>   216</td> \n",
              "</tr>\n",
              "<tr>\n",
              "  <th>Model:</th>                  <td>GLM</td>       <th>  Df Residuals:      </th>  <td>   211</td> \n",
              "</tr>\n",
              "<tr>\n",
              "  <th>Model Family:</th>        <td>Gaussian</td>     <th>  Df Model:          </th>  <td>     4</td> \n",
              "</tr>\n",
              "<tr>\n",
              "  <th>Link Function:</th>       <td>identity</td>     <th>  Scale:             </th> <td> 0.12583</td>\n",
              "</tr>\n",
              "<tr>\n",
              "  <th>Method:</th>                <td>IRLS</td>       <th>  Log-Likelihood:    </th> <td> -80.095</td>\n",
              "</tr>\n",
              "<tr>\n",
              "  <th>Date:</th>            <td>Mon, 09 Dec 2019</td> <th>  Deviance:          </th> <td>  26.550</td>\n",
              "</tr>\n",
              "<tr>\n",
              "  <th>Time:</th>                <td>19:20:24</td>     <th>  Pearson chi2:      </th>  <td>  26.5</td> \n",
              "</tr>\n",
              "<tr>\n",
              "  <th>No. Iterations:</th>          <td>3</td>        <th>                     </th>     <td> </td>   \n",
              "</tr>\n",
              "<tr>\n",
              "  <th>Covariance Type:</th>     <td>nonrobust</td>    <th>                     </th>     <td> </td>   \n",
              "</tr>\n",
              "</table>\n",
              "<table class=\"simpletable\">\n",
              "<tr>\n",
              "                   <td></td>                     <th>coef</th>     <th>std err</th>      <th>z</th>      <th>P>|z|</th>  <th>[0.025</th>    <th>0.975]</th>  \n",
              "</tr>\n",
              "<tr>\n",
              "  <th>Intercept</th>                          <td>    0.7322</td> <td>    0.069</td> <td>   10.623</td> <td> 0.000</td> <td>    0.597</td> <td>    0.867</td>\n",
              "</tr>\n",
              "<tr>\n",
              "  <th>temperatura[T.Refrigerado]</th>         <td>    0.0552</td> <td>    0.093</td> <td>    0.595</td> <td> 0.552</td> <td>   -0.127</td> <td>    0.237</td>\n",
              "</tr>\n",
              "<tr>\n",
              "  <th>preservante[T.Heparina]</th>            <td>    0.0731</td> <td>    0.048</td> <td>    1.514</td> <td> 0.130</td> <td>   -0.022</td> <td>    0.168</td>\n",
              "</tr>\n",
              "<tr>\n",
              "  <th>muestra</th>                            <td>    0.0010</td> <td>    0.001</td> <td>    1.004</td> <td> 0.315</td> <td>   -0.001</td> <td>    0.003</td>\n",
              "</tr>\n",
              "<tr>\n",
              "  <th>temperatura[T.Refrigerado]:muestra</th> <td>-2.856e-05</td> <td>    0.001</td> <td>   -0.020</td> <td> 0.984</td> <td>   -0.003</td> <td>    0.003</td>\n",
              "</tr>\n",
              "</table>"
            ],
            "text/plain": [
              "<class 'statsmodels.iolib.summary.Summary'>\n",
              "\"\"\"\n",
              "                 Generalized Linear Model Regression Results                  \n",
              "==============================================================================\n",
              "Dep. Variable:               presence   No. Observations:                  216\n",
              "Model:                            GLM   Df Residuals:                      211\n",
              "Model Family:                Gaussian   Df Model:                            4\n",
              "Link Function:               identity   Scale:                         0.12583\n",
              "Method:                          IRLS   Log-Likelihood:                -80.095\n",
              "Date:                Mon, 09 Dec 2019   Deviance:                       26.550\n",
              "Time:                        19:20:24   Pearson chi2:                     26.5\n",
              "No. Iterations:                     3                                         \n",
              "Covariance Type:            nonrobust                                         \n",
              "======================================================================================================\n",
              "                                         coef    std err          z      P>|z|      [0.025      0.975]\n",
              "------------------------------------------------------------------------------------------------------\n",
              "Intercept                              0.7322      0.069     10.623      0.000       0.597       0.867\n",
              "temperatura[T.Refrigerado]             0.0552      0.093      0.595      0.552      -0.127       0.237\n",
              "preservante[T.Heparina]                0.0731      0.048      1.514      0.130      -0.022       0.168\n",
              "muestra                                0.0010      0.001      1.004      0.315      -0.001       0.003\n",
              "temperatura[T.Refrigerado]:muestra -2.856e-05      0.001     -0.020      0.984      -0.003       0.003\n",
              "======================================================================================================\n",
              "\"\"\""
            ]
          },
          "metadata": {
            "tags": []
          },
          "execution_count": 14
        }
      ]
    },
    {
      "cell_type": "code",
      "metadata": {
        "id": "JjZGnNtxAdYX",
        "colab_type": "code",
        "outputId": "ecf8667f-50a9-4125-8b01-25ded86d8014",
        "colab": {
          "base_uri": "https://localhost:8080/",
          "height": 374
        }
      },
      "source": [
        "formula2 = 'presence ~ temperatura+preservante+muestra+temperatura*muestra + preservante*muestra '\n",
        "        \n",
        "mod2 = smf.glm(formula=formula2, data=dfums).fit()\n",
        "mod2.summary()"
      ],
      "execution_count": 0,
      "outputs": [
        {
          "output_type": "execute_result",
          "data": {
            "text/html": [
              "<table class=\"simpletable\">\n",
              "<caption>Generalized Linear Model Regression Results</caption>\n",
              "<tr>\n",
              "  <th>Dep. Variable:</th>       <td>presence</td>     <th>  No. Observations:  </th>  <td>   216</td> \n",
              "</tr>\n",
              "<tr>\n",
              "  <th>Model:</th>                  <td>GLM</td>       <th>  Df Residuals:      </th>  <td>   210</td> \n",
              "</tr>\n",
              "<tr>\n",
              "  <th>Model Family:</th>        <td>Gaussian</td>     <th>  Df Model:          </th>  <td>     5</td> \n",
              "</tr>\n",
              "<tr>\n",
              "  <th>Link Function:</th>       <td>identity</td>     <th>  Scale:             </th> <td> 0.12614</td>\n",
              "</tr>\n",
              "<tr>\n",
              "  <th>Method:</th>                <td>IRLS</td>       <th>  Log-Likelihood:    </th> <td> -79.847</td>\n",
              "</tr>\n",
              "<tr>\n",
              "  <th>Date:</th>            <td>Mon, 09 Dec 2019</td> <th>  Deviance:          </th> <td>  26.489</td>\n",
              "</tr>\n",
              "<tr>\n",
              "  <th>Time:</th>                <td>19:20:28</td>     <th>  Pearson chi2:      </th>  <td>  26.5</td> \n",
              "</tr>\n",
              "<tr>\n",
              "  <th>No. Iterations:</th>          <td>3</td>        <th>                     </th>     <td> </td>   \n",
              "</tr>\n",
              "<tr>\n",
              "  <th>Covariance Type:</th>     <td>nonrobust</td>    <th>                     </th>     <td> </td>   \n",
              "</tr>\n",
              "</table>\n",
              "<table class=\"simpletable\">\n",
              "<tr>\n",
              "                   <td></td>                     <th>coef</th>     <th>std err</th>      <th>z</th>      <th>P>|z|</th>  <th>[0.025</th>    <th>0.975]</th>  \n",
              "</tr>\n",
              "<tr>\n",
              "  <th>Intercept</th>                          <td>    0.7596</td> <td>    0.079</td> <td>    9.564</td> <td> 0.000</td> <td>    0.604</td> <td>    0.915</td>\n",
              "</tr>\n",
              "<tr>\n",
              "  <th>temperatura[T.Refrigerado]</th>         <td>    0.0552</td> <td>    0.093</td> <td>    0.594</td> <td> 0.552</td> <td>   -0.127</td> <td>    0.237</td>\n",
              "</tr>\n",
              "<tr>\n",
              "  <th>preservante[T.Heparina]</th>            <td>    0.0180</td> <td>    0.093</td> <td>    0.193</td> <td> 0.847</td> <td>   -0.164</td> <td>    0.200</td>\n",
              "</tr>\n",
              "<tr>\n",
              "  <th>muestra</th>                            <td>    0.0005</td> <td>    0.001</td> <td>    0.418</td> <td> 0.676</td> <td>   -0.002</td> <td>    0.003</td>\n",
              "</tr>\n",
              "<tr>\n",
              "  <th>temperatura[T.Refrigerado]:muestra</th> <td>-2.897e-05</td> <td>    0.001</td> <td>   -0.021</td> <td> 0.984</td> <td>   -0.003</td> <td>    0.003</td>\n",
              "</tr>\n",
              "<tr>\n",
              "  <th>preservante[T.Heparina]:muestra</th>    <td>    0.0010</td> <td>    0.001</td> <td>    0.695</td> <td> 0.487</td> <td>   -0.002</td> <td>    0.004</td>\n",
              "</tr>\n",
              "</table>"
            ],
            "text/plain": [
              "<class 'statsmodels.iolib.summary.Summary'>\n",
              "\"\"\"\n",
              "                 Generalized Linear Model Regression Results                  \n",
              "==============================================================================\n",
              "Dep. Variable:               presence   No. Observations:                  216\n",
              "Model:                            GLM   Df Residuals:                      210\n",
              "Model Family:                Gaussian   Df Model:                            5\n",
              "Link Function:               identity   Scale:                         0.12614\n",
              "Method:                          IRLS   Log-Likelihood:                -79.847\n",
              "Date:                Mon, 09 Dec 2019   Deviance:                       26.489\n",
              "Time:                        19:20:28   Pearson chi2:                     26.5\n",
              "No. Iterations:                     3                                         \n",
              "Covariance Type:            nonrobust                                         \n",
              "======================================================================================================\n",
              "                                         coef    std err          z      P>|z|      [0.025      0.975]\n",
              "------------------------------------------------------------------------------------------------------\n",
              "Intercept                              0.7596      0.079      9.564      0.000       0.604       0.915\n",
              "temperatura[T.Refrigerado]             0.0552      0.093      0.594      0.552      -0.127       0.237\n",
              "preservante[T.Heparina]                0.0180      0.093      0.193      0.847      -0.164       0.200\n",
              "muestra                                0.0005      0.001      0.418      0.676      -0.002       0.003\n",
              "temperatura[T.Refrigerado]:muestra -2.897e-05      0.001     -0.021      0.984      -0.003       0.003\n",
              "preservante[T.Heparina]:muestra        0.0010      0.001      0.695      0.487      -0.002       0.004\n",
              "======================================================================================================\n",
              "\"\"\""
            ]
          },
          "metadata": {
            "tags": []
          },
          "execution_count": 15
        }
      ]
    },
    {
      "cell_type": "markdown",
      "metadata": {
        "id": "Elp97yiz_CT9",
        "colab_type": "text"
      },
      "source": [
        "#**estratificación por tipo cristal PFC**"
      ]
    },
    {
      "cell_type": "code",
      "metadata": {
        "id": "5r51QB7nU9jJ",
        "colab_type": "code",
        "outputId": "24b4867a-812f-4b43-a9b4-4e091c9e8b52",
        "colab": {
          "base_uri": "https://localhost:8080/",
          "height": 489
        }
      },
      "source": [
        "#estratificación por tipo cristal PFC\n",
        "\n",
        "df2 = pd.read_excel(\"marianosql2sinto.xls\")\n",
        "dfpfc= df2[df2[\"tipo\"] ==\"PFC\"]\n",
        "print(dfpfc.head())\n",
        "formula2 = 'presence ~ temperatura+preservante+muestra'\n",
        "        \n",
        "mod2 = smf.glm(formula=formula2, data=dfpfc).fit()\n",
        "print(mod2.summary())"
      ],
      "execution_count": 0,
      "outputs": [
        {
          "output_type": "stream",
          "text": [
            "   tiempo  muestra  muestra_temp  ... tipo               fecha  localizacion\n",
            "0       1        0             1  ...  PFC 2017-10-17 14:57:00        Varios\n",
            "1       1        1             1  ...  PFC 2017-10-17 14:15:00        Varios\n",
            "2       1        2             3  ...  PFC 2017-10-17 15:35:00        Varios\n",
            "3       1        3             3  ...  PFC 2017-10-17 15:19:59  Intracelular\n",
            "4       1        4             5  ...  PFC 2017-10-31 09:45:00  No cristales\n",
            "\n",
            "[5 rows x 9 columns]\n",
            "                 Generalized Linear Model Regression Results                  \n",
            "==============================================================================\n",
            "Dep. Variable:               presence   No. Observations:                  144\n",
            "Model:                            GLM   Df Residuals:                      140\n",
            "Model Family:                Gaussian   Df Model:                            3\n",
            "Link Function:               identity   Scale:                        0.043684\n",
            "Method:                          IRLS   Log-Likelihood:                 23.117\n",
            "Date:                Mon, 09 Dec 2019   Deviance:                       6.1158\n",
            "Time:                        19:20:32   Pearson chi2:                     6.12\n",
            "No. Iterations:                     3                                         \n",
            "Covariance Type:            nonrobust                                         \n",
            "==============================================================================================\n",
            "                                 coef    std err          z      P>|z|      [0.025      0.975]\n",
            "----------------------------------------------------------------------------------------------\n",
            "Intercept                      0.7583      0.044     17.365      0.000       0.673       0.844\n",
            "temperatura[T.Refrigerado]     0.0500      0.035      1.436      0.151      -0.018       0.118\n",
            "preservante[T.Heparina]       -0.0305      0.035     -0.877      0.381      -0.099       0.038\n",
            "muestra                        0.0028      0.001      5.457      0.000       0.002       0.004\n",
            "==============================================================================================\n"
          ],
          "name": "stdout"
        }
      ]
    },
    {
      "cell_type": "code",
      "metadata": {
        "id": "psTOzObp-TJk",
        "colab_type": "code",
        "outputId": "54a406ef-a121-4faf-848f-d85978a48bd1",
        "colab": {
          "base_uri": "https://localhost:8080/",
          "height": 353
        }
      },
      "source": [
        "formula2 = 'presence ~ temperatura+preservante+muestra+temperatura*muestra '\n",
        "        \n",
        "mod2 = smf.glm(formula=formula2, data=dfpfc).fit()\n",
        "mod2.summary()"
      ],
      "execution_count": 0,
      "outputs": [
        {
          "output_type": "execute_result",
          "data": {
            "text/html": [
              "<table class=\"simpletable\">\n",
              "<caption>Generalized Linear Model Regression Results</caption>\n",
              "<tr>\n",
              "  <th>Dep. Variable:</th>       <td>presence</td>     <th>  No. Observations:  </th>  <td>   144</td> \n",
              "</tr>\n",
              "<tr>\n",
              "  <th>Model:</th>                  <td>GLM</td>       <th>  Df Residuals:      </th>  <td>   139</td> \n",
              "</tr>\n",
              "<tr>\n",
              "  <th>Model Family:</th>        <td>Gaussian</td>     <th>  Df Model:          </th>  <td>     4</td> \n",
              "</tr>\n",
              "<tr>\n",
              "  <th>Link Function:</th>       <td>identity</td>     <th>  Scale:             </th> <td>0.041599</td>\n",
              "</tr>\n",
              "<tr>\n",
              "  <th>Method:</th>                <td>IRLS</td>       <th>  Log-Likelihood:    </th> <td>  27.154</td>\n",
              "</tr>\n",
              "<tr>\n",
              "  <th>Date:</th>            <td>Mon, 09 Dec 2019</td> <th>  Deviance:          </th> <td>  5.7823</td>\n",
              "</tr>\n",
              "<tr>\n",
              "  <th>Time:</th>                <td>19:20:35</td>     <th>  Pearson chi2:      </th>  <td>  5.78</td> \n",
              "</tr>\n",
              "<tr>\n",
              "  <th>No. Iterations:</th>          <td>3</td>        <th>                     </th>     <td> </td>   \n",
              "</tr>\n",
              "<tr>\n",
              "  <th>Covariance Type:</th>     <td>nonrobust</td>    <th>                     </th>     <td> </td>   \n",
              "</tr>\n",
              "</table>\n",
              "<table class=\"simpletable\">\n",
              "<tr>\n",
              "                   <td></td>                     <th>coef</th>     <th>std err</th>      <th>z</th>      <th>P>|z|</th>  <th>[0.025</th>    <th>0.975]</th>  \n",
              "</tr>\n",
              "<tr>\n",
              "  <th>Intercept</th>                          <td>    0.6703</td> <td>    0.053</td> <td>   12.714</td> <td> 0.000</td> <td>    0.567</td> <td>    0.774</td>\n",
              "</tr>\n",
              "<tr>\n",
              "  <th>temperatura[T.Refrigerado]</th>         <td>    0.2287</td> <td>    0.072</td> <td>    3.190</td> <td> 0.001</td> <td>    0.088</td> <td>    0.369</td>\n",
              "</tr>\n",
              "<tr>\n",
              "  <th>preservante[T.Heparina]</th>            <td>   -0.0305</td> <td>    0.034</td> <td>   -0.898</td> <td> 0.369</td> <td>   -0.097</td> <td>    0.036</td>\n",
              "</tr>\n",
              "<tr>\n",
              "  <th>muestra</th>                            <td>    0.0042</td> <td>    0.001</td> <td>    5.956</td> <td> 0.000</td> <td>    0.003</td> <td>    0.006</td>\n",
              "</tr>\n",
              "<tr>\n",
              "  <th>temperatura[T.Refrigerado]:muestra</th> <td>   -0.0028</td> <td>    0.001</td> <td>   -2.831</td> <td> 0.005</td> <td>   -0.005</td> <td>   -0.001</td>\n",
              "</tr>\n",
              "</table>"
            ],
            "text/plain": [
              "<class 'statsmodels.iolib.summary.Summary'>\n",
              "\"\"\"\n",
              "                 Generalized Linear Model Regression Results                  \n",
              "==============================================================================\n",
              "Dep. Variable:               presence   No. Observations:                  144\n",
              "Model:                            GLM   Df Residuals:                      139\n",
              "Model Family:                Gaussian   Df Model:                            4\n",
              "Link Function:               identity   Scale:                        0.041599\n",
              "Method:                          IRLS   Log-Likelihood:                 27.154\n",
              "Date:                Mon, 09 Dec 2019   Deviance:                       5.7823\n",
              "Time:                        19:20:35   Pearson chi2:                     5.78\n",
              "No. Iterations:                     3                                         \n",
              "Covariance Type:            nonrobust                                         \n",
              "======================================================================================================\n",
              "                                         coef    std err          z      P>|z|      [0.025      0.975]\n",
              "------------------------------------------------------------------------------------------------------\n",
              "Intercept                              0.6703      0.053     12.714      0.000       0.567       0.774\n",
              "temperatura[T.Refrigerado]             0.2287      0.072      3.190      0.001       0.088       0.369\n",
              "preservante[T.Heparina]               -0.0305      0.034     -0.898      0.369      -0.097       0.036\n",
              "muestra                                0.0042      0.001      5.956      0.000       0.003       0.006\n",
              "temperatura[T.Refrigerado]:muestra    -0.0028      0.001     -2.831      0.005      -0.005      -0.001\n",
              "======================================================================================================\n",
              "\"\"\""
            ]
          },
          "metadata": {
            "tags": []
          },
          "execution_count": 17
        }
      ]
    },
    {
      "cell_type": "code",
      "metadata": {
        "id": "4g-9ll_JAMLS",
        "colab_type": "code",
        "outputId": "2e773d04-f706-4b1a-ee74-b1f50de65672",
        "colab": {
          "base_uri": "https://localhost:8080/",
          "height": 374
        }
      },
      "source": [
        "formula2 = 'presence ~ temperatura+preservante+muestra+temperatura*muestra + preservante*muestra '\n",
        "        \n",
        "mod2 = smf.glm(formula=formula2, data=dfpfc).fit()\n",
        "mod2.summary()"
      ],
      "execution_count": 0,
      "outputs": [
        {
          "output_type": "execute_result",
          "data": {
            "text/html": [
              "<table class=\"simpletable\">\n",
              "<caption>Generalized Linear Model Regression Results</caption>\n",
              "<tr>\n",
              "  <th>Dep. Variable:</th>       <td>presence</td>     <th>  No. Observations:  </th>  <td>   144</td> \n",
              "</tr>\n",
              "<tr>\n",
              "  <th>Model:</th>                  <td>GLM</td>       <th>  Df Residuals:      </th>  <td>   138</td> \n",
              "</tr>\n",
              "<tr>\n",
              "  <th>Model Family:</th>        <td>Gaussian</td>     <th>  Df Model:          </th>  <td>     5</td> \n",
              "</tr>\n",
              "<tr>\n",
              "  <th>Link Function:</th>       <td>identity</td>     <th>  Scale:             </th> <td>0.041379</td>\n",
              "</tr>\n",
              "<tr>\n",
              "  <th>Method:</th>                <td>IRLS</td>       <th>  Log-Likelihood:    </th> <td>  28.056</td>\n",
              "</tr>\n",
              "<tr>\n",
              "  <th>Date:</th>            <td>Mon, 09 Dec 2019</td> <th>  Deviance:          </th> <td>  5.7103</td>\n",
              "</tr>\n",
              "<tr>\n",
              "  <th>Time:</th>                <td>19:20:42</td>     <th>  Pearson chi2:      </th>  <td>  5.71</td> \n",
              "</tr>\n",
              "<tr>\n",
              "  <th>No. Iterations:</th>          <td>3</td>        <th>                     </th>     <td> </td>   \n",
              "</tr>\n",
              "<tr>\n",
              "  <th>Covariance Type:</th>     <td>nonrobust</td>    <th>                     </th>     <td> </td>   \n",
              "</tr>\n",
              "</table>\n",
              "<table class=\"simpletable\">\n",
              "<tr>\n",
              "                   <td></td>                     <th>coef</th>     <th>std err</th>      <th>z</th>      <th>P>|z|</th>  <th>[0.025</th>    <th>0.975]</th>  \n",
              "</tr>\n",
              "<tr>\n",
              "  <th>Intercept</th>                          <td>    0.7115</td> <td>    0.061</td> <td>   11.637</td> <td> 0.000</td> <td>    0.592</td> <td>    0.831</td>\n",
              "</tr>\n",
              "<tr>\n",
              "  <th>temperatura[T.Refrigerado]</th>         <td>    0.2287</td> <td>    0.071</td> <td>    3.199</td> <td> 0.001</td> <td>    0.089</td> <td>    0.369</td>\n",
              "</tr>\n",
              "<tr>\n",
              "  <th>preservante[T.Heparina]</th>            <td>   -0.1135</td> <td>    0.071</td> <td>   -1.588</td> <td> 0.112</td> <td>   -0.254</td> <td>    0.027</td>\n",
              "</tr>\n",
              "<tr>\n",
              "  <th>muestra</th>                            <td>    0.0035</td> <td>    0.001</td> <td>    4.117</td> <td> 0.000</td> <td>    0.002</td> <td>    0.005</td>\n",
              "</tr>\n",
              "<tr>\n",
              "  <th>temperatura[T.Refrigerado]:muestra</th> <td>   -0.0028</td> <td>    0.001</td> <td>   -2.840</td> <td> 0.005</td> <td>   -0.005</td> <td>   -0.001</td>\n",
              "</tr>\n",
              "<tr>\n",
              "  <th>preservante[T.Heparina]:muestra</th>    <td>    0.0013</td> <td>    0.001</td> <td>    1.319</td> <td> 0.187</td> <td>   -0.001</td> <td>    0.003</td>\n",
              "</tr>\n",
              "</table>"
            ],
            "text/plain": [
              "<class 'statsmodels.iolib.summary.Summary'>\n",
              "\"\"\"\n",
              "                 Generalized Linear Model Regression Results                  \n",
              "==============================================================================\n",
              "Dep. Variable:               presence   No. Observations:                  144\n",
              "Model:                            GLM   Df Residuals:                      138\n",
              "Model Family:                Gaussian   Df Model:                            5\n",
              "Link Function:               identity   Scale:                        0.041379\n",
              "Method:                          IRLS   Log-Likelihood:                 28.056\n",
              "Date:                Mon, 09 Dec 2019   Deviance:                       5.7103\n",
              "Time:                        19:20:42   Pearson chi2:                     5.71\n",
              "No. Iterations:                     3                                         \n",
              "Covariance Type:            nonrobust                                         \n",
              "======================================================================================================\n",
              "                                         coef    std err          z      P>|z|      [0.025      0.975]\n",
              "------------------------------------------------------------------------------------------------------\n",
              "Intercept                              0.7115      0.061     11.637      0.000       0.592       0.831\n",
              "temperatura[T.Refrigerado]             0.2287      0.071      3.199      0.001       0.089       0.369\n",
              "preservante[T.Heparina]               -0.1135      0.071     -1.588      0.112      -0.254       0.027\n",
              "muestra                                0.0035      0.001      4.117      0.000       0.002       0.005\n",
              "temperatura[T.Refrigerado]:muestra    -0.0028      0.001     -2.840      0.005      -0.005      -0.001\n",
              "preservante[T.Heparina]:muestra        0.0013      0.001      1.319      0.187      -0.001       0.003\n",
              "======================================================================================================\n",
              "\"\"\""
            ]
          },
          "metadata": {
            "tags": []
          },
          "execution_count": 18
        }
      ]
    }
  ]
}